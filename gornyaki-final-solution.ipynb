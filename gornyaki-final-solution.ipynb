{
 "cells": [
  {
   "cell_type": "code",
   "execution_count": 1,
   "metadata": {
    "_cell_guid": "b1076dfc-b9ad-4769-8c92-a6c4dae69d19",
    "_uuid": "8f2839f25d086af736a60e9eeb907d3b93b6e0e5",
    "execution": {
     "iopub.execute_input": "2021-01-25T19:22:23.266186Z",
     "iopub.status.busy": "2021-01-25T19:22:23.265186Z",
     "iopub.status.idle": "2021-01-25T19:22:24.463113Z",
     "shell.execute_reply": "2021-01-25T19:22:24.462522Z"
    },
    "papermill": {
     "duration": 1.238171,
     "end_time": "2021-01-25T19:22:24.463265",
     "exception": false,
     "start_time": "2021-01-25T19:22:23.225094",
     "status": "completed"
    },
    "tags": []
   },
   "outputs": [],
   "source": [
    "import os\n",
    "import matplotlib.pyplot as plt\n",
    "import numpy as np \n",
    "import pandas as pd \n",
    "import time\n",
    "from ml_metrics import apk as apk, mapk as mapk\n",
    "from itertools import product\n",
    "from collections import OrderedDict\n",
    "import gc\n",
    "\n",
    "from sklearn.preprocessing import MinMaxScaler\n",
    "from collections import Counter\n",
    "from sklearn.metrics.pairwise import cosine_similarity\n",
    "\n",
    "plt.style.use('fivethirtyeight')"
   ]
  },
  {
   "cell_type": "markdown",
   "metadata": {
    "papermill": {
     "duration": 0.028225,
     "end_time": "2021-01-25T19:22:24.520741",
     "exception": false,
     "start_time": "2021-01-25T19:22:24.492516",
     "status": "completed"
    },
    "tags": []
   },
   "source": [
    "# Preprocessing"
   ]
  },
  {
   "cell_type": "markdown",
   "metadata": {
    "papermill": {
     "duration": 0.028609,
     "end_time": "2021-01-25T19:22:24.578097",
     "exception": false,
     "start_time": "2021-01-25T19:22:24.549488",
     "status": "completed"
    },
    "tags": []
   },
   "source": [
    "## Functions for validation"
   ]
  },
  {
   "cell_type": "code",
   "execution_count": 2,
   "metadata": {
    "execution": {
     "iopub.execute_input": "2021-01-25T19:22:24.645288Z",
     "iopub.status.busy": "2021-01-25T19:22:24.644269Z",
     "iopub.status.idle": "2021-01-25T19:22:24.648217Z",
     "shell.execute_reply": "2021-01-25T19:22:24.648708Z"
    },
    "papermill": {
     "duration": 0.041848,
     "end_time": "2021-01-25T19:22:24.648863",
     "exception": false,
     "start_time": "2021-01-25T19:22:24.607015",
     "status": "completed"
    },
    "tags": []
   },
   "outputs": [],
   "source": [
    "# custom AP@K metrics\n",
    "def ap_k(arr1, arr2, k):\n",
    "\n",
    "    mean_k=[]\n",
    "    sim = list(map(lambda x: x[0] == x[1] , zip(arr1,arr2)))\n",
    "    \n",
    "    for i in range(1,k+1):\n",
    "        time_arr = sim[:i]\n",
    "        tr = time_arr.count(True)\n",
    "        fp = time_arr.count(False)\n",
    "        mean_k.append(tr/(tr+fp))\n",
    "        \n",
    "    return np.mean(mean_k)"
   ]
  },
  {
   "cell_type": "code",
   "execution_count": 3,
   "metadata": {
    "execution": {
     "iopub.execute_input": "2021-01-25T19:22:24.714231Z",
     "iopub.status.busy": "2021-01-25T19:22:24.713454Z",
     "iopub.status.idle": "2021-01-25T19:22:24.716441Z",
     "shell.execute_reply": "2021-01-25T19:22:24.716984Z"
    },
    "papermill": {
     "duration": 0.03868,
     "end_time": "2021-01-25T19:22:24.717144",
     "exception": false,
     "start_time": "2021-01-25T19:22:24.678464",
     "status": "completed"
    },
    "tags": []
   },
   "outputs": [],
   "source": [
    "# custom MAP@K metrics\n",
    "def map_k(actual, predicted, k):\n",
    "    return np.mean([ap_k(a,p,k) for a,p in zip(actual, predicted)])"
   ]
  },
  {
   "cell_type": "code",
   "execution_count": 4,
   "metadata": {
    "execution": {
     "iopub.execute_input": "2021-01-25T19:22:24.789937Z",
     "iopub.status.busy": "2021-01-25T19:22:24.788891Z",
     "iopub.status.idle": "2021-01-25T19:22:24.803665Z",
     "shell.execute_reply": "2021-01-25T19:22:24.804645Z"
    },
    "papermill": {
     "duration": 0.056247,
     "end_time": "2021-01-25T19:22:24.804852",
     "exception": false,
     "start_time": "2021-01-25T19:22:24.748605",
     "status": "completed"
    },
    "tags": []
   },
   "outputs": [],
   "source": [
    "# functions used to compare our predicts with our test set\n",
    "# custom MAP@K and ml_metrics' MAP@K used\n",
    "# NaN values filled from top_5 most popular shows\n",
    "def test_mapk(df_X, df_y, top_5, check_sets=True):\n",
    "\n",
    "    test_set = df_y.copy()\n",
    "    test_set = test_set.join(df_X, on='user_id', how='left', rsuffix='_pred')\n",
    "    fillna_with_top(test_set, 'tv_show_id_pred', top_5)\n",
    "    \n",
    "    if check_sets:\n",
    "        assert (test_set['tv_show_id'].apply(lambda x: len(set(x)) != len(x)).mean()) == 0\n",
    "        assert (test_set['tv_show_id'].isna().sum()) == 0\n",
    "        assert ((test_set['tv_show_id'].apply(len) != 5).mean()) == 0\n",
    "        assert (test_set['tv_show_id_pred'].isna().sum()) == 0\n",
    "        assert (test_set['tv_show_id_pred'].apply(lambda x: len(set(x)) != len(x)).mean()) == 0\n",
    "        assert ((test_set['tv_show_id_pred'].apply(len) != 5).mean()) == 0\n",
    "\n",
    "    print(\"MAPK:\", mapk(test_set['tv_show_id'], test_set['tv_show_id_pred'], 5))\n",
    "    print(\"MAP_K:\", map_k(test_set['tv_show_id'], test_set['tv_show_id_pred'], 5))"
   ]
  },
  {
   "cell_type": "markdown",
   "metadata": {
    "papermill": {
     "duration": 0.040481,
     "end_time": "2021-01-25T19:22:24.887241",
     "exception": false,
     "start_time": "2021-01-25T19:22:24.846760",
     "status": "completed"
    },
    "tags": []
   },
   "source": [
    "## Functions for calculating statistics"
   ]
  },
  {
   "cell_type": "code",
   "execution_count": 5,
   "metadata": {
    "execution": {
     "iopub.execute_input": "2021-01-25T19:22:24.966885Z",
     "iopub.status.busy": "2021-01-25T19:22:24.966105Z",
     "iopub.status.idle": "2021-01-25T19:22:24.971388Z",
     "shell.execute_reply": "2021-01-25T19:22:24.971965Z"
    },
    "papermill": {
     "duration": 0.041286,
     "end_time": "2021-01-25T19:22:24.972150",
     "exception": false,
     "start_time": "2021-01-25T19:22:24.930864",
     "status": "completed"
    },
    "tags": []
   },
   "outputs": [],
   "source": [
    "# most popular shows by user\n",
    "def top_user_show(df):        \n",
    "    return df.groupby('user_id')['tv_show_id'].value_counts().reset_index(name='count').groupby(\n",
    "        'user_id').head(5).groupby(\n",
    "        'user_id')['tv_show_id'].apply(list).to_frame()"
   ]
  },
  {
   "cell_type": "code",
   "execution_count": 6,
   "metadata": {
    "execution": {
     "iopub.execute_input": "2021-01-25T19:22:25.034351Z",
     "iopub.status.busy": "2021-01-25T19:22:25.033662Z",
     "iopub.status.idle": "2021-01-25T19:22:25.042870Z",
     "shell.execute_reply": "2021-01-25T19:22:25.043382Z"
    },
    "papermill": {
     "duration": 0.042174,
     "end_time": "2021-01-25T19:22:25.043642",
     "exception": false,
     "start_time": "2021-01-25T19:22:25.001468",
     "status": "completed"
    },
    "tags": []
   },
   "outputs": [],
   "source": [
    "# most popular shows by user with sorted shows by their overall popularity\n",
    "def top_user_show_sorted(df):\n",
    "    \n",
    "    res = df.copy()\n",
    "    res = res.join(res.groupby(\n",
    "        ['user_id', 'tv_show_id']).size().to_frame(name='u_s_cnt'), \n",
    "                   on=['user_id', 'tv_show_id'], how='left') \n",
    "    res = res.join(res.groupby(\n",
    "        'tv_show_id').size().to_frame(name='global_cnt'),\n",
    "                   on='tv_show_id', how='left')\n",
    "    show_cnt = res.groupby(\n",
    "        ['user_id', 'tv_show_id'])[['u_s_cnt', 'global_cnt']].mean().reset_index().sort_values(\n",
    "        ['u_s_cnt', 'global_cnt'], ascending=False).groupby('user_id').head(5).groupby(\n",
    "        'user_id')['tv_show_id'].apply(list).to_frame()\n",
    "    \n",
    "    return show_cnt   "
   ]
  },
  {
   "cell_type": "code",
   "execution_count": 7,
   "metadata": {
    "execution": {
     "iopub.execute_input": "2021-01-25T19:22:25.105708Z",
     "iopub.status.busy": "2021-01-25T19:22:25.104967Z",
     "iopub.status.idle": "2021-01-25T19:22:25.112026Z",
     "shell.execute_reply": "2021-01-25T19:22:25.112570Z"
    },
    "papermill": {
     "duration": 0.039879,
     "end_time": "2021-01-25T19:22:25.112716",
     "exception": false,
     "start_time": "2021-01-25T19:22:25.072837",
     "status": "completed"
    },
    "tags": []
   },
   "outputs": [],
   "source": [
    "# function that combines views of one show in one time period\n",
    "# for example, when the user switched the channel and then returned\n",
    "def full_intercept(df):\n",
    "    df_full = df.groupby(['start_time_tv','channel_id','user_id'])['interception_time'].sum().reset_index()\n",
    "    df_full.columns = ['start_time_tv', 'channel_id', 'user_id', 'full_interception_time']\n",
    "    big_df = pd.merge(df_full, df, \n",
    "                      on=['start_time_tv', 'channel_id', 'user_id'])\n",
    "    big_df_no_dub = big_df.drop_duplicates(\n",
    "        subset=['start_time_tv', 'channel_id', \n",
    "                'user_id','full_interception_time']).drop(\n",
    "        'interception_time', axis = 1)\n",
    "    \n",
    "    return big_df_no_dub"
   ]
  },
  {
   "cell_type": "markdown",
   "metadata": {
    "papermill": {
     "duration": 0.028713,
     "end_time": "2021-01-25T19:22:25.170723",
     "exception": false,
     "start_time": "2021-01-25T19:22:25.142010",
     "status": "completed"
    },
    "tags": []
   },
   "source": [
    "Functions for filling missing shows for user with most popular shows "
   ]
  },
  {
   "cell_type": "code",
   "execution_count": 8,
   "metadata": {
    "execution": {
     "iopub.execute_input": "2021-01-25T19:22:25.232825Z",
     "iopub.status.busy": "2021-01-25T19:22:25.232177Z",
     "iopub.status.idle": "2021-01-25T19:22:25.237343Z",
     "shell.execute_reply": "2021-01-25T19:22:25.238040Z"
    },
    "papermill": {
     "duration": 0.038221,
     "end_time": "2021-01-25T19:22:25.238201",
     "exception": false,
     "start_time": "2021-01-25T19:22:25.199980",
     "status": "completed"
    },
    "tags": []
   },
   "outputs": [],
   "source": [
    "# calculate top shows overall\n",
    "def top_shows(df, group_col, N):\n",
    "    return df.groupby(group_col).size().sort_values(\n",
    "        ascending=False).head(N).index.to_list()"
   ]
  },
  {
   "cell_type": "code",
   "execution_count": 9,
   "metadata": {
    "execution": {
     "iopub.execute_input": "2021-01-25T19:22:25.303510Z",
     "iopub.status.busy": "2021-01-25T19:22:25.302755Z",
     "iopub.status.idle": "2021-01-25T19:22:25.306176Z",
     "shell.execute_reply": "2021-01-25T19:22:25.305618Z"
    },
    "papermill": {
     "duration": 0.038495,
     "end_time": "2021-01-25T19:22:25.306294",
     "exception": false,
     "start_time": "2021-01-25T19:22:25.267799",
     "status": "completed"
    },
    "tags": []
   },
   "outputs": [],
   "source": [
    "def fillna_with_top(df, column, top):\n",
    "    df[column] = df[column].apply(lambda x: top if x is np.nan else x)"
   ]
  },
  {
   "cell_type": "code",
   "execution_count": 10,
   "metadata": {
    "execution": {
     "iopub.execute_input": "2021-01-25T19:22:25.377401Z",
     "iopub.status.busy": "2021-01-25T19:22:25.376743Z",
     "iopub.status.idle": "2021-01-25T19:22:25.384706Z",
     "shell.execute_reply": "2021-01-25T19:22:25.384112Z"
    },
    "papermill": {
     "duration": 0.048905,
     "end_time": "2021-01-25T19:22:25.384827",
     "exception": false,
     "start_time": "2021-01-25T19:22:25.335922",
     "status": "completed"
    },
    "tags": []
   },
   "outputs": [],
   "source": [
    "# fill missing shows for each user\n",
    "# OrderedDict used to save original order of shows for user\n",
    "def fill_to_5(df, column, top):\n",
    "    df[column] = df[column].apply(lambda x: x if len(x) == 5 else \n",
    "                                  list(OrderedDict.fromkeys((x + top)))[:5])"
   ]
  },
  {
   "cell_type": "code",
   "execution_count": 11,
   "metadata": {
    "execution": {
     "iopub.execute_input": "2021-01-25T19:22:25.453853Z",
     "iopub.status.busy": "2021-01-25T19:22:25.453205Z",
     "iopub.status.idle": "2021-01-25T19:22:25.456680Z",
     "shell.execute_reply": "2021-01-25T19:22:25.456083Z"
    },
    "papermill": {
     "duration": 0.041727,
     "end_time": "2021-01-25T19:22:25.456791",
     "exception": false,
     "start_time": "2021-01-25T19:22:25.415064",
     "status": "completed"
    },
    "tags": []
   },
   "outputs": [],
   "source": [
    "# similarity matrix from users' ratings\n",
    "def create_similarity_matrix(df):\n",
    "    pvt_table = pd.pivot_table(df, \n",
    "                               values='full_interception_time', \n",
    "                               columns=['tv_show_id'],\n",
    "                               index=['user_id'],\n",
    "                               aggfunc='count').fillna(0)\n",
    "    pvt_table = pvt_table.apply(lambda x: (x - x.min()) / (x.max() - x.min()), axis=0)\n",
    "    cos_sim = cosine_similarity(pvt_table)\n",
    "    np.fill_diagonal(cos_sim, 0)\n",
    "    cos_sim = pd.DataFrame(cos_sim, \n",
    "                           index = pvt_table.index, \n",
    "                           columns = pvt_table.index)\n",
    "\n",
    "    return pvt_table, cos_sim"
   ]
  },
  {
   "cell_type": "code",
   "execution_count": 12,
   "metadata": {
    "execution": {
     "iopub.execute_input": "2021-01-25T19:22:25.525708Z",
     "iopub.status.busy": "2021-01-25T19:22:25.524642Z",
     "iopub.status.idle": "2021-01-25T19:22:25.527982Z",
     "shell.execute_reply": "2021-01-25T19:22:25.527349Z"
    },
    "papermill": {
     "duration": 0.041214,
     "end_time": "2021-01-25T19:22:25.528096",
     "exception": false,
     "start_time": "2021-01-25T19:22:25.486882",
     "status": "completed"
    },
    "tags": []
   },
   "outputs": [],
   "source": [
    "# find most popular shows among similar users for user_id\n",
    "def similar_shows(cos_sim_matrix, pvt_table, user_id, n_shows):\n",
    "    similar_user = cos_sim_matrix[user_id].nlargest(10).index\n",
    "    similar_user_ratings = pvt_table.loc[similar_user].stack().reset_index(name='rating')\n",
    "    similar_user_top = similar_user_ratings.sort_values('rating', ascending=False).groupby(\n",
    "        'user_id').head(10)\n",
    "    similar_shows = similar_user_top.groupby('tv_show_id')['rating'].sum().nlargest(n_shows)\n",
    "    \n",
    "    return similar_shows.index.to_list()"
   ]
  },
  {
   "cell_type": "code",
   "execution_count": 13,
   "metadata": {
    "execution": {
     "iopub.execute_input": "2021-01-25T19:22:25.596567Z",
     "iopub.status.busy": "2021-01-25T19:22:25.595867Z",
     "iopub.status.idle": "2021-01-25T19:22:25.597982Z",
     "shell.execute_reply": "2021-01-25T19:22:25.598543Z"
    },
    "papermill": {
     "duration": 0.040479,
     "end_time": "2021-01-25T19:22:25.598691",
     "exception": false,
     "start_time": "2021-01-25T19:22:25.558212",
     "status": "completed"
    },
    "tags": []
   },
   "outputs": [],
   "source": [
    "# filling missing shows for each user with similar users' shows\n",
    "# OrderedDict used to save original order of shows for user\n",
    "def fill_with_recommend(df, column, cos_sim_matrix, pvt_table):\n",
    "    df[column] = df.apply(lambda x: x[column] if len(x[column]) == 5 else \n",
    "                          list(OrderedDict.fromkeys((\n",
    "                              x[column] + \n",
    "                              similar_shows(cos_sim_matrix, pvt_table, x['user_id'], 10))))[:5], axis=1)"
   ]
  },
  {
   "cell_type": "markdown",
   "metadata": {
    "papermill": {
     "duration": 0.029959,
     "end_time": "2021-01-25T19:22:25.659260",
     "exception": false,
     "start_time": "2021-01-25T19:22:25.629301",
     "status": "completed"
    },
    "tags": []
   },
   "source": [
    "## Data reading and cleaning"
   ]
  },
  {
   "cell_type": "code",
   "execution_count": 14,
   "metadata": {
    "execution": {
     "iopub.execute_input": "2021-01-25T19:22:25.723675Z",
     "iopub.status.busy": "2021-01-25T19:22:25.722971Z",
     "iopub.status.idle": "2021-01-25T19:22:58.087477Z",
     "shell.execute_reply": "2021-01-25T19:22:58.086869Z"
    },
    "papermill": {
     "duration": 32.398023,
     "end_time": "2021-01-25T19:22:58.087612",
     "exception": false,
     "start_time": "2021-01-25T19:22:25.689589",
     "status": "completed"
    },
    "tags": []
   },
   "outputs": [
    {
     "name": "stderr",
     "output_type": "stream",
     "text": [
      "/opt/conda/lib/python3.7/site-packages/IPython/core/interactiveshell.py:3063: DtypeWarning: Columns (10) have mixed types.Specify dtype option on import or set low_memory=False.\n",
      "  interactivity=interactivity, compiler=compiler, result=result)\n"
     ]
    }
   ],
   "source": [
    "FULL_DATA_DIR = '/kaggle/input/sweet-data'\n",
    "DATA_DIR = '/kaggle/input/sweettv-tv-program-recommender'\n",
    "\n",
    "big_data_df = pd.read_csv(os.path.join(FULL_DATA_DIR, 'big_data.csv'))\n",
    "arh_1 = pd.read_csv(os.path.join(DATA_DIR, 'export_arh_11-20-final.csv'))\n",
    "arh_2 = pd.read_csv(os.path.join(DATA_DIR, 'export_arh_21-30-final.csv'))\n",
    "test_arh = pd.read_csv(os.path.join(DATA_DIR, 'export_arh_31-42-final.csv'))\n",
    "submission = pd.read_csv(os.path.join(DATA_DIR, 'submission.csv'))\n",
    "\n",
    "arh = pd.concat([arh_1, arh_2], axis=0)\n",
    "train_arh = arh[arh['tv_show_id'] != 0].reset_index(drop=True).copy()\n",
    "test_arh = test_arh[test_arh['tv_show_id'] != 0].reset_index(drop=True).copy()\n",
    "\n",
    "uniq_train = np.setdiff1d(train_arh['tv_show_id'].unique(), test_arh['tv_show_id'].unique())\n",
    "big_data_df = big_data_df[~big_data_df['tv_show_id'].isin(uniq_train)]\n",
    "train_arh = train_arh[~train_arh['tv_show_id'].isin(uniq_train)]\n",
    "\n",
    "del arh, arh_1, arh_2"
   ]
  },
  {
   "cell_type": "code",
   "execution_count": 15,
   "metadata": {
    "execution": {
     "iopub.execute_input": "2021-01-25T19:22:58.319577Z",
     "iopub.status.busy": "2021-01-25T19:22:58.174593Z",
     "iopub.status.idle": "2021-01-25T19:23:09.132240Z",
     "shell.execute_reply": "2021-01-25T19:23:09.131169Z"
    },
    "papermill": {
     "duration": 11.013591,
     "end_time": "2021-01-25T19:23:09.132392",
     "exception": false,
     "start_time": "2021-01-25T19:22:58.118801",
     "status": "completed"
    },
    "tags": []
   },
   "outputs": [],
   "source": [
    "big_data_df.columns = ['channel_id', 'start_time_tv', 'tv_show_id', 'stop_time_tv', 'trunk_day',\n",
    "                       'user_id', 'vsetv_id', 'start_time_user', 'stop_time_user', 'interception_time']\n",
    "big_data_df.drop(columns=['trunk_day', 'vsetv_id'], inplace=True)\n",
    "\n",
    "dt_format = \"%Y-%m-%d %H:%M:%S\"\n",
    "big_data_df['start_time_tv'] = pd.to_datetime(big_data_df['start_time_tv'], format=dt_format)\n",
    "big_data_df['stop_time_tv'] = pd.to_datetime(big_data_df['stop_time_tv'], format=dt_format)\n",
    "big_data_df['start_time_user'] = pd.to_datetime(big_data_df['start_time_user'], format=dt_format)\n",
    "big_data_df['stop_time_user'] = pd.to_datetime(big_data_df['stop_time_user'], format=dt_format)\n",
    "train_arh['start_time'] = pd.to_datetime(train_arh['start_time'], format='%d.%m.%Y %H:%M:%S')\n",
    "test_arh['start_time'] = pd.to_datetime(test_arh['start_time'], format='%d.%m.%Y %H:%M:%S')\n",
    "\n",
    "big_data_df['duration'] = (big_data_df['stop_time_tv'] - big_data_df['start_time_tv']).dt.seconds\n",
    "big_data_df['view_pct'] = (big_data_df['interception_time'] / big_data_df['duration'])\n",
    "big_data_df['view_pct'].clip(0, 1, inplace=True)\n",
    "\n",
    "train_df = full_intercept(big_data_df)\n",
    "\n",
    "show_cat = train_arh[['tv_show_id', 'tv_show_category']].drop_duplicates().set_index('tv_show_id')\n",
    "train_df = train_df.join(show_cat, on='tv_show_id', how='left')"
   ]
  },
  {
   "cell_type": "code",
   "execution_count": 16,
   "metadata": {
    "execution": {
     "iopub.execute_input": "2021-01-25T19:23:09.201917Z",
     "iopub.status.busy": "2021-01-25T19:23:09.201187Z",
     "iopub.status.idle": "2021-01-25T19:23:10.646189Z",
     "shell.execute_reply": "2021-01-25T19:23:10.646729Z"
    },
    "papermill": {
     "duration": 1.483417,
     "end_time": "2021-01-25T19:23:10.646885",
     "exception": false,
     "start_time": "2021-01-25T19:23:09.163468",
     "status": "completed"
    },
    "tags": []
   },
   "outputs": [
    {
     "data": {
      "image/png": "[encoded data removed]",
      "text/plain": [
       "<Figure size 720x432 with 1 Axes>"
      ]
     },
     "metadata": {},
     "output_type": "display_data"
    }
   ],
   "source": [
    "train_df.groupby([pd.Grouper(key='start_time_user', \n",
    "                             freq='D')])['duration'].sum().plot(figsize=(10, 6))\n",
    "plt.title(\"Durations by days\")\n",
    "plt.show()"
   ]
  },
  {
   "cell_type": "code",
   "execution_count": 17,
   "metadata": {
    "execution": {
     "iopub.execute_input": "2021-01-25T19:23:10.738575Z",
     "iopub.status.busy": "2021-01-25T19:23:10.737838Z",
     "iopub.status.idle": "2021-01-25T19:23:11.184257Z",
     "shell.execute_reply": "2021-01-25T19:23:11.183662Z"
    },
    "papermill": {
     "duration": 0.502974,
     "end_time": "2021-01-25T19:23:11.184393",
     "exception": false,
     "start_time": "2021-01-25T19:23:10.681419",
     "status": "completed"
    },
    "tags": []
   },
   "outputs": [
    {
     "name": "stdout",
     "output_type": "stream",
     "text": [
      "['Инфо' 'Фильмы' 'Сериалы' 'Развлечения' 'Познавательное' 'Другое' 'Детям']\n",
      "['Развлечения' 'Инфо' 'Сериалы' 'Фильмы' 'Познавательное' 'Другое' 'Детям'\n",
      " 'Спорт']\n"
     ]
    },
    {
     "data": {
      "image/png": "[encoded data removed]",
      "text/plain": [
       "<Figure size 864x288 with 2 Axes>"
      ]
     },
     "metadata": {},
     "output_type": "display_data"
    }
   ],
   "source": [
    "print(train_arh['tv_show_category'].unique())\n",
    "print(test_arh['tv_show_category'].unique())\n",
    "\n",
    "fig, ax = plt.subplots(1, 2, figsize=(12, 4))\n",
    "\n",
    "(train_arh.groupby('tv_show_category')['tv_show_id'].count() / \n",
    " train_arh.shape[0]).plot(kind='barh', ax=ax[0])\n",
    "ax[0].set_title(\"Train categories\")\n",
    "(test_arh.groupby('tv_show_category')['tv_show_id'].count() / \n",
    " test_arh.shape[0]).plot(kind='barh', ax=ax[1])\n",
    "ax[1].set_title(\"Test categories\")\n",
    "\n",
    "plt.tight_layout()\n",
    "plt.show()"
   ]
  },
  {
   "cell_type": "code",
   "execution_count": 18,
   "metadata": {
    "execution": {
     "iopub.execute_input": "2021-01-25T19:23:11.262372Z",
     "iopub.status.busy": "2021-01-25T19:23:11.261630Z",
     "iopub.status.idle": "2021-01-25T19:23:11.479240Z",
     "shell.execute_reply": "2021-01-25T19:23:11.479720Z"
    },
    "papermill": {
     "duration": 0.260413,
     "end_time": "2021-01-25T19:23:11.479872",
     "exception": false,
     "start_time": "2021-01-25T19:23:11.219459",
     "status": "completed"
    },
    "tags": []
   },
   "outputs": [
    {
     "name": "stdout",
     "output_type": "stream",
     "text": [
      "Percent of shows with more than one channel 0.5724177726485863\n"
     ]
    },
    {
     "data": {
      "image/png": "[encoded data removed]",
      "text/plain": [
       "<Figure size 432x288 with 1 Axes>"
      ]
     },
     "metadata": {},
     "output_type": "display_data"
    }
   ],
   "source": [
    "print(\"Percent of shows with more than one channel\", \n",
    "      (train_arh.groupby('tv_show_id')['channel_id'].nunique() > 1).mean())\n",
    "(train_arh.groupby('tv_show_id')['channel_id'].nunique()).hist()\n",
    "plt.title(\"Shows broadcastув on different channels\")\n",
    "plt.show()"
   ]
  },
  {
   "cell_type": "markdown",
   "metadata": {
    "papermill": {
     "duration": 0.036908,
     "end_time": "2021-01-25T19:23:11.554107",
     "exception": false,
     "start_time": "2021-01-25T19:23:11.517199",
     "status": "completed"
    },
    "tags": []
   },
   "source": [
    "# Testing"
   ]
  },
  {
   "cell_type": "markdown",
   "metadata": {
    "papermill": {
     "duration": 0.036952,
     "end_time": "2021-01-25T19:23:11.627701",
     "exception": false,
     "start_time": "2021-01-25T19:23:11.590749",
     "status": "completed"
    },
    "tags": []
   },
   "source": [
    "## Split data by train/test"
   ]
  },
  {
   "cell_type": "code",
   "execution_count": 19,
   "metadata": {
    "execution": {
     "iopub.execute_input": "2021-01-25T19:23:11.712025Z",
     "iopub.status.busy": "2021-01-25T19:23:11.711260Z",
     "iopub.status.idle": "2021-01-25T19:23:12.703224Z",
     "shell.execute_reply": "2021-01-25T19:23:12.703753Z"
    },
    "papermill": {
     "duration": 1.039677,
     "end_time": "2021-01-25T19:23:12.703919",
     "exception": false,
     "start_time": "2021-01-25T19:23:11.664242",
     "status": "completed"
    },
    "tags": []
   },
   "outputs": [
    {
     "name": "stdout",
     "output_type": "stream",
     "text": [
      "Duplicates in shows - 0.0\n",
      "NaNs in shows - 0\n",
      "Missing shows - 0.0\n"
     ]
    }
   ],
   "source": [
    "final_df_X = train_df[train_df['start_time_user'].dt.month != 7].copy()\n",
    "final_df_y = train_df[train_df['start_time_user'].dt.month == 7].copy()\n",
    "\n",
    "test_set = top_user_show(final_df_y[final_df_y['view_pct'] >= 0.8])\n",
    "test_set = test_set[test_set['tv_show_id'].apply(len) == 5]\n",
    "\n",
    "print(\"Duplicates in shows -\", test_set['tv_show_id'].apply(lambda x: len(set(x)) != len(x)).mean())\n",
    "print(\"NaNs in shows -\", test_set['tv_show_id'].isna().sum())\n",
    "print(\"Missing shows -\", (test_set['tv_show_id'].apply(len) != 5).mean())"
   ]
  },
  {
   "cell_type": "code",
   "execution_count": 20,
   "metadata": {
    "execution": {
     "iopub.execute_input": "2021-01-25T19:23:12.790333Z",
     "iopub.status.busy": "2021-01-25T19:23:12.789553Z",
     "iopub.status.idle": "2021-01-25T19:23:12.793323Z",
     "shell.execute_reply": "2021-01-25T19:23:12.792602Z"
    },
    "papermill": {
     "duration": 0.052491,
     "end_time": "2021-01-25T19:23:12.793459",
     "exception": false,
     "start_time": "2021-01-25T19:23:12.740968",
     "status": "completed"
    },
    "tags": []
   },
   "outputs": [],
   "source": [
    "# how many times each user watched TV\n",
    "def prepare_time_df(df):\n",
    "    agg_df = df.groupby(['day_of_week', 'hour', 'user_id'])['interception_time'].count().reset_index()\n",
    "    \n",
    "    agg_df['week_hour'] = agg_df['day_of_week'].astype(str) + '_' + agg_df['hour'].astype(str)\n",
    "    \n",
    "    agg_df_piv = pd.pivot_table(agg_df[['user_id', 'interception_time', 'week_hour']], \n",
    "                   values='interception_time', \n",
    "                   columns=['user_id'],\n",
    "                   index=['week_hour']).fillna(0)\n",
    "    \n",
    "    scaler = MinMaxScaler()\n",
    "    \n",
    "    df_agg_piv_sc = pd.DataFrame(scaler.fit_transform(agg_df_piv), \n",
    "                             index = agg_df_piv.index, \n",
    "                             columns = agg_df_piv.columns)\n",
    "    \n",
    "    return df_agg_piv_sc"
   ]
  },
  {
   "cell_type": "code",
   "execution_count": 21,
   "metadata": {
    "execution": {
     "iopub.execute_input": "2021-01-25T19:23:12.878307Z",
     "iopub.status.busy": "2021-01-25T19:23:12.877162Z",
     "iopub.status.idle": "2021-01-25T19:23:12.881148Z",
     "shell.execute_reply": "2021-01-25T19:23:12.880453Z"
    },
    "papermill": {
     "duration": 0.05061,
     "end_time": "2021-01-25T19:23:12.881273",
     "exception": false,
     "start_time": "2021-01-25T19:23:12.830663",
     "status": "completed"
    },
    "tags": []
   },
   "outputs": [],
   "source": [
    "# rating of the show calculated by user matrix\n",
    "def prepare_show_df(df):\n",
    "    agg_df = df.groupby(['tv_show_id', 'user_id'])['interception_time'].count().reset_index()\n",
    "    agg_df_piv = pd.pivot_table(agg_df, \n",
    "                       values='interception_time', \n",
    "                       columns=['user_id'],\n",
    "                       index=['tv_show_id']).fillna(0)\n",
    "    scaler = MinMaxScaler()\n",
    "\n",
    "    df_agg_piv_sc = pd.DataFrame(scaler.fit_transform(agg_df_piv), \n",
    "                                 index = agg_df_piv.index, \n",
    "                                 columns = agg_df_piv.columns)\n",
    "    return df_agg_piv_sc"
   ]
  },
  {
   "cell_type": "code",
   "execution_count": 22,
   "metadata": {
    "execution": {
     "iopub.execute_input": "2021-01-25T19:23:12.969829Z",
     "iopub.status.busy": "2021-01-25T19:23:12.968960Z",
     "iopub.status.idle": "2021-01-25T19:23:25.024449Z",
     "shell.execute_reply": "2021-01-25T19:23:25.023706Z"
    },
    "papermill": {
     "duration": 12.105218,
     "end_time": "2021-01-25T19:23:25.024587",
     "exception": false,
     "start_time": "2021-01-25T19:23:12.919369",
     "status": "completed"
    },
    "tags": []
   },
   "outputs": [
    {
     "data": {
      "text/html": [
       "<div>\n",
       "<style scoped>\n",
       "    .dataframe tbody tr th:only-of-type {\n",
       "        vertical-align: middle;\n",
       "    }\n",
       "\n",
       "    .dataframe tbody tr th {\n",
       "        vertical-align: top;\n",
       "    }\n",
       "\n",
       "    .dataframe thead th {\n",
       "        text-align: right;\n",
       "    }\n",
       "</style>\n",
       "<table border=\"1\" class=\"dataframe\">\n",
       "  <thead>\n",
       "    <tr style=\"text-align: right;\">\n",
       "      <th></th>\n",
       "      <th>channel_id</th>\n",
       "      <th>start_time_tv</th>\n",
       "      <th>duration</th>\n",
       "      <th>tv_show_id</th>\n",
       "      <th>stop_time_tv</th>\n",
       "      <th>user_id</th>\n",
       "      <th>vsetv_id</th>\n",
       "      <th>start_time_user</th>\n",
       "      <th>stop_time_user</th>\n",
       "      <th>interception_time</th>\n",
       "      <th>day_of_week</th>\n",
       "      <th>hour</th>\n",
       "    </tr>\n",
       "  </thead>\n",
       "  <tbody>\n",
       "    <tr>\n",
       "      <th>0</th>\n",
       "      <td>3</td>\n",
       "      <td>2020-03-13 00:50:00</td>\n",
       "      <td>600</td>\n",
       "      <td>2400480</td>\n",
       "      <td>2020-03-13 01:00:00</td>\n",
       "      <td>13245325954936692066</td>\n",
       "      <td>3</td>\n",
       "      <td>2020-03-13 00:02:08</td>\n",
       "      <td>2020-03-13 01:48:36</td>\n",
       "      <td>600.0</td>\n",
       "      <td>4</td>\n",
       "      <td>0</td>\n",
       "    </tr>\n",
       "    <tr>\n",
       "      <th>1</th>\n",
       "      <td>3</td>\n",
       "      <td>2020-03-13 00:50:00</td>\n",
       "      <td>600</td>\n",
       "      <td>2400480</td>\n",
       "      <td>2020-03-13 01:00:00</td>\n",
       "      <td>2674242068734372740</td>\n",
       "      <td>3</td>\n",
       "      <td>2020-03-13 00:04:50</td>\n",
       "      <td>2020-03-13 00:50:14</td>\n",
       "      <td>14.0</td>\n",
       "      <td>4</td>\n",
       "      <td>0</td>\n",
       "    </tr>\n",
       "    <tr>\n",
       "      <th>2</th>\n",
       "      <td>3</td>\n",
       "      <td>2020-03-13 00:50:00</td>\n",
       "      <td>600</td>\n",
       "      <td>2400480</td>\n",
       "      <td>2020-03-13 01:00:00</td>\n",
       "      <td>13638882539922173677</td>\n",
       "      <td>3</td>\n",
       "      <td>2020-03-13 00:07:07</td>\n",
       "      <td>2020-03-13 02:08:59</td>\n",
       "      <td>600.0</td>\n",
       "      <td>4</td>\n",
       "      <td>0</td>\n",
       "    </tr>\n",
       "    <tr>\n",
       "      <th>3</th>\n",
       "      <td>3</td>\n",
       "      <td>2020-03-13 00:50:00</td>\n",
       "      <td>600</td>\n",
       "      <td>2400480</td>\n",
       "      <td>2020-03-13 01:00:00</td>\n",
       "      <td>3907354689415233903</td>\n",
       "      <td>3</td>\n",
       "      <td>2020-03-13 00:09:01</td>\n",
       "      <td>2020-03-13 01:23:19</td>\n",
       "      <td>600.0</td>\n",
       "      <td>4</td>\n",
       "      <td>0</td>\n",
       "    </tr>\n",
       "    <tr>\n",
       "      <th>4</th>\n",
       "      <td>3</td>\n",
       "      <td>2020-03-13 00:50:00</td>\n",
       "      <td>600</td>\n",
       "      <td>2400480</td>\n",
       "      <td>2020-03-13 01:00:00</td>\n",
       "      <td>10014349624473638912</td>\n",
       "      <td>3</td>\n",
       "      <td>2020-03-13 00:13:59</td>\n",
       "      <td>2020-03-13 00:50:43</td>\n",
       "      <td>43.0</td>\n",
       "      <td>4</td>\n",
       "      <td>0</td>\n",
       "    </tr>\n",
       "  </tbody>\n",
       "</table>\n",
       "</div>"
      ],
      "text/plain": [
       "   channel_id       start_time_tv  duration  tv_show_id        stop_time_tv  \\\n",
       "0           3 2020-03-13 00:50:00       600     2400480 2020-03-13 01:00:00   \n",
       "1           3 2020-03-13 00:50:00       600     2400480 2020-03-13 01:00:00   \n",
       "2           3 2020-03-13 00:50:00       600     2400480 2020-03-13 01:00:00   \n",
       "3           3 2020-03-13 00:50:00       600     2400480 2020-03-13 01:00:00   \n",
       "4           3 2020-03-13 00:50:00       600     2400480 2020-03-13 01:00:00   \n",
       "\n",
       "                user_id  vsetv_id      start_time_user       stop_time_user  \\\n",
       "0  13245325954936692066         3  2020-03-13 00:02:08  2020-03-13 01:48:36   \n",
       "1   2674242068734372740         3  2020-03-13 00:04:50  2020-03-13 00:50:14   \n",
       "2  13638882539922173677         3  2020-03-13 00:07:07  2020-03-13 02:08:59   \n",
       "3   3907354689415233903         3  2020-03-13 00:09:01  2020-03-13 01:23:19   \n",
       "4  10014349624473638912         3  2020-03-13 00:13:59  2020-03-13 00:50:43   \n",
       "\n",
       "   interception_time  day_of_week  hour  \n",
       "0              600.0            4     0  \n",
       "1               14.0            4     0  \n",
       "2              600.0            4     0  \n",
       "3              600.0            4     0  \n",
       "4               43.0            4     0  "
      ]
     },
     "execution_count": 22,
     "metadata": {},
     "output_type": "execute_result"
    }
   ],
   "source": [
    "df = pd.read_csv('/kaggle/input/sweet-data/crop_data_1.csv')\n",
    "\n",
    "df.start_time_tv = pd.to_datetime(df.start_time_tv)\n",
    "df.stop_time_tv = pd.to_datetime(df.stop_time_tv)\n",
    "\n",
    "df['day_of_week'] = df.start_time_tv.dt.dayofweek\n",
    "df['hour'] = df.start_time_tv.dt.hour\n",
    "\n",
    "df.head()"
   ]
  },
  {
   "cell_type": "code",
   "execution_count": 23,
   "metadata": {
    "execution": {
     "iopub.execute_input": "2021-01-25T19:23:25.107922Z",
     "iopub.status.busy": "2021-01-25T19:23:25.106888Z",
     "iopub.status.idle": "2021-01-25T19:23:26.735335Z",
     "shell.execute_reply": "2021-01-25T19:23:26.735859Z"
    },
    "papermill": {
     "duration": 1.672956,
     "end_time": "2021-01-25T19:23:26.736024",
     "exception": false,
     "start_time": "2021-01-25T19:23:25.063068",
     "status": "completed"
    },
    "tags": []
   },
   "outputs": [
    {
     "data": {
      "text/html": [
       "<div>\n",
       "<style scoped>\n",
       "    .dataframe tbody tr th:only-of-type {\n",
       "        vertical-align: middle;\n",
       "    }\n",
       "\n",
       "    .dataframe tbody tr th {\n",
       "        vertical-align: top;\n",
       "    }\n",
       "\n",
       "    .dataframe thead th {\n",
       "        text-align: right;\n",
       "    }\n",
       "</style>\n",
       "<table border=\"1\" class=\"dataframe\">\n",
       "  <thead>\n",
       "    <tr style=\"text-align: right;\">\n",
       "      <th>user_id</th>\n",
       "      <th>2244466330591177</th>\n",
       "      <th>3767274164463716</th>\n",
       "      <th>22263144883588864</th>\n",
       "      <th>25263373097189844</th>\n",
       "      <th>36938861791891792</th>\n",
       "      <th>37747430840118209</th>\n",
       "      <th>40421401857115442</th>\n",
       "      <th>44032390614277934</th>\n",
       "      <th>52369349052901997</th>\n",
       "      <th>54521601679629335</th>\n",
       "      <th>...</th>\n",
       "      <th>18417531283109304442</th>\n",
       "      <th>18418581976329388680</th>\n",
       "      <th>18420447773506519613</th>\n",
       "      <th>18423558708285759863</th>\n",
       "      <th>18432742752712514319</th>\n",
       "      <th>18436538545025490822</th>\n",
       "      <th>18437797701155742162</th>\n",
       "      <th>18438926380372621167</th>\n",
       "      <th>18440717181607000261</th>\n",
       "      <th>18443832178892490378</th>\n",
       "    </tr>\n",
       "    <tr>\n",
       "      <th>tv_show_id</th>\n",
       "      <th></th>\n",
       "      <th></th>\n",
       "      <th></th>\n",
       "      <th></th>\n",
       "      <th></th>\n",
       "      <th></th>\n",
       "      <th></th>\n",
       "      <th></th>\n",
       "      <th></th>\n",
       "      <th></th>\n",
       "      <th></th>\n",
       "      <th></th>\n",
       "      <th></th>\n",
       "      <th></th>\n",
       "      <th></th>\n",
       "      <th></th>\n",
       "      <th></th>\n",
       "      <th></th>\n",
       "      <th></th>\n",
       "      <th></th>\n",
       "      <th></th>\n",
       "    </tr>\n",
       "  </thead>\n",
       "  <tbody>\n",
       "    <tr>\n",
       "      <th>20088</th>\n",
       "      <td>0.0</td>\n",
       "      <td>0.166667</td>\n",
       "      <td>0.0</td>\n",
       "      <td>1.0</td>\n",
       "      <td>0.543478</td>\n",
       "      <td>0.384615</td>\n",
       "      <td>0.538462</td>\n",
       "      <td>0.384615</td>\n",
       "      <td>0.571429</td>\n",
       "      <td>0.111111</td>\n",
       "      <td>...</td>\n",
       "      <td>0.017857</td>\n",
       "      <td>0.066667</td>\n",
       "      <td>0.0</td>\n",
       "      <td>0.0</td>\n",
       "      <td>0.0</td>\n",
       "      <td>0.000000</td>\n",
       "      <td>1.0</td>\n",
       "      <td>0.0</td>\n",
       "      <td>1.0</td>\n",
       "      <td>0.0</td>\n",
       "    </tr>\n",
       "    <tr>\n",
       "      <th>52641</th>\n",
       "      <td>0.0</td>\n",
       "      <td>0.000000</td>\n",
       "      <td>0.0</td>\n",
       "      <td>0.0</td>\n",
       "      <td>0.000000</td>\n",
       "      <td>0.000000</td>\n",
       "      <td>0.000000</td>\n",
       "      <td>0.000000</td>\n",
       "      <td>0.000000</td>\n",
       "      <td>0.000000</td>\n",
       "      <td>...</td>\n",
       "      <td>0.000000</td>\n",
       "      <td>0.000000</td>\n",
       "      <td>0.0</td>\n",
       "      <td>0.0</td>\n",
       "      <td>0.0</td>\n",
       "      <td>0.000000</td>\n",
       "      <td>0.0</td>\n",
       "      <td>0.0</td>\n",
       "      <td>0.0</td>\n",
       "      <td>0.0</td>\n",
       "    </tr>\n",
       "    <tr>\n",
       "      <th>100035</th>\n",
       "      <td>0.0</td>\n",
       "      <td>0.000000</td>\n",
       "      <td>0.0</td>\n",
       "      <td>0.0</td>\n",
       "      <td>0.000000</td>\n",
       "      <td>0.000000</td>\n",
       "      <td>0.000000</td>\n",
       "      <td>0.000000</td>\n",
       "      <td>0.000000</td>\n",
       "      <td>0.000000</td>\n",
       "      <td>...</td>\n",
       "      <td>0.000000</td>\n",
       "      <td>0.000000</td>\n",
       "      <td>0.0</td>\n",
       "      <td>0.0</td>\n",
       "      <td>0.0</td>\n",
       "      <td>0.000000</td>\n",
       "      <td>0.0</td>\n",
       "      <td>0.0</td>\n",
       "      <td>0.0</td>\n",
       "      <td>0.0</td>\n",
       "    </tr>\n",
       "    <tr>\n",
       "      <th>100045</th>\n",
       "      <td>0.0</td>\n",
       "      <td>0.000000</td>\n",
       "      <td>0.0</td>\n",
       "      <td>0.0</td>\n",
       "      <td>0.000000</td>\n",
       "      <td>0.000000</td>\n",
       "      <td>0.000000</td>\n",
       "      <td>0.000000</td>\n",
       "      <td>0.000000</td>\n",
       "      <td>0.000000</td>\n",
       "      <td>...</td>\n",
       "      <td>0.000000</td>\n",
       "      <td>0.000000</td>\n",
       "      <td>0.0</td>\n",
       "      <td>0.0</td>\n",
       "      <td>0.0</td>\n",
       "      <td>0.000000</td>\n",
       "      <td>0.0</td>\n",
       "      <td>0.0</td>\n",
       "      <td>0.0</td>\n",
       "      <td>0.0</td>\n",
       "    </tr>\n",
       "    <tr>\n",
       "      <th>100055</th>\n",
       "      <td>0.0</td>\n",
       "      <td>0.000000</td>\n",
       "      <td>0.0</td>\n",
       "      <td>0.0</td>\n",
       "      <td>0.000000</td>\n",
       "      <td>0.000000</td>\n",
       "      <td>0.000000</td>\n",
       "      <td>0.000000</td>\n",
       "      <td>0.000000</td>\n",
       "      <td>0.000000</td>\n",
       "      <td>...</td>\n",
       "      <td>0.000000</td>\n",
       "      <td>0.000000</td>\n",
       "      <td>0.0</td>\n",
       "      <td>0.0</td>\n",
       "      <td>0.0</td>\n",
       "      <td>0.006289</td>\n",
       "      <td>0.0</td>\n",
       "      <td>0.0</td>\n",
       "      <td>0.0</td>\n",
       "      <td>0.0</td>\n",
       "    </tr>\n",
       "  </tbody>\n",
       "</table>\n",
       "<p>5 rows × 4894 columns</p>\n",
       "</div>"
      ],
      "text/plain": [
       "user_id     2244466330591177      3767274164463716      22263144883588864     \\\n",
       "tv_show_id                                                                     \n",
       "20088                        0.0              0.166667                   0.0   \n",
       "52641                        0.0              0.000000                   0.0   \n",
       "100035                       0.0              0.000000                   0.0   \n",
       "100045                       0.0              0.000000                   0.0   \n",
       "100055                       0.0              0.000000                   0.0   \n",
       "\n",
       "user_id     25263373097189844     36938861791891792     37747430840118209     \\\n",
       "tv_show_id                                                                     \n",
       "20088                        1.0              0.543478              0.384615   \n",
       "52641                        0.0              0.000000              0.000000   \n",
       "100035                       0.0              0.000000              0.000000   \n",
       "100045                       0.0              0.000000              0.000000   \n",
       "100055                       0.0              0.000000              0.000000   \n",
       "\n",
       "user_id     40421401857115442     44032390614277934     52369349052901997     \\\n",
       "tv_show_id                                                                     \n",
       "20088                   0.538462              0.384615              0.571429   \n",
       "52641                   0.000000              0.000000              0.000000   \n",
       "100035                  0.000000              0.000000              0.000000   \n",
       "100045                  0.000000              0.000000              0.000000   \n",
       "100055                  0.000000              0.000000              0.000000   \n",
       "\n",
       "user_id     54521601679629335     ...  18417531283109304442  \\\n",
       "tv_show_id                        ...                         \n",
       "20088                   0.111111  ...              0.017857   \n",
       "52641                   0.000000  ...              0.000000   \n",
       "100035                  0.000000  ...              0.000000   \n",
       "100045                  0.000000  ...              0.000000   \n",
       "100055                  0.000000  ...              0.000000   \n",
       "\n",
       "user_id     18418581976329388680  18420447773506519613  18423558708285759863  \\\n",
       "tv_show_id                                                                     \n",
       "20088                   0.066667                   0.0                   0.0   \n",
       "52641                   0.000000                   0.0                   0.0   \n",
       "100035                  0.000000                   0.0                   0.0   \n",
       "100045                  0.000000                   0.0                   0.0   \n",
       "100055                  0.000000                   0.0                   0.0   \n",
       "\n",
       "user_id     18432742752712514319  18436538545025490822  18437797701155742162  \\\n",
       "tv_show_id                                                                     \n",
       "20088                        0.0              0.000000                   1.0   \n",
       "52641                        0.0              0.000000                   0.0   \n",
       "100035                       0.0              0.000000                   0.0   \n",
       "100045                       0.0              0.000000                   0.0   \n",
       "100055                       0.0              0.006289                   0.0   \n",
       "\n",
       "user_id     18438926380372621167  18440717181607000261  18443832178892490378  \n",
       "tv_show_id                                                                    \n",
       "20088                        0.0                   1.0                   0.0  \n",
       "52641                        0.0                   0.0                   0.0  \n",
       "100035                       0.0                   0.0                   0.0  \n",
       "100045                       0.0                   0.0                   0.0  \n",
       "100055                       0.0                   0.0                   0.0  \n",
       "\n",
       "[5 rows x 4894 columns]"
      ]
     },
     "execution_count": 23,
     "metadata": {},
     "output_type": "execute_result"
    }
   ],
   "source": [
    "show_df = prepare_show_df(df)\n",
    "show_df.head()"
   ]
  },
  {
   "cell_type": "code",
   "execution_count": 24,
   "metadata": {
    "execution": {
     "iopub.execute_input": "2021-01-25T19:23:26.819962Z",
     "iopub.status.busy": "2021-01-25T19:23:26.819301Z",
     "iopub.status.idle": "2021-01-25T19:23:29.037062Z",
     "shell.execute_reply": "2021-01-25T19:23:29.037701Z"
    },
    "papermill": {
     "duration": 2.26269,
     "end_time": "2021-01-25T19:23:29.037863",
     "exception": false,
     "start_time": "2021-01-25T19:23:26.775173",
     "status": "completed"
    },
    "tags": []
   },
   "outputs": [
    {
     "data": {
      "text/html": [
       "<div>\n",
       "<style scoped>\n",
       "    .dataframe tbody tr th:only-of-type {\n",
       "        vertical-align: middle;\n",
       "    }\n",
       "\n",
       "    .dataframe tbody tr th {\n",
       "        vertical-align: top;\n",
       "    }\n",
       "\n",
       "    .dataframe thead th {\n",
       "        text-align: right;\n",
       "    }\n",
       "</style>\n",
       "<table border=\"1\" class=\"dataframe\">\n",
       "  <thead>\n",
       "    <tr style=\"text-align: right;\">\n",
       "      <th>user_id</th>\n",
       "      <th>2244466330591177</th>\n",
       "      <th>3767274164463716</th>\n",
       "      <th>22263144883588864</th>\n",
       "      <th>25263373097189844</th>\n",
       "      <th>36938861791891792</th>\n",
       "      <th>37747430840118209</th>\n",
       "      <th>40421401857115442</th>\n",
       "      <th>44032390614277934</th>\n",
       "      <th>52369349052901997</th>\n",
       "      <th>54521601679629335</th>\n",
       "      <th>...</th>\n",
       "      <th>18417531283109304442</th>\n",
       "      <th>18418581976329388680</th>\n",
       "      <th>18420447773506519613</th>\n",
       "      <th>18423558708285759863</th>\n",
       "      <th>18432742752712514319</th>\n",
       "      <th>18436538545025490822</th>\n",
       "      <th>18437797701155742162</th>\n",
       "      <th>18438926380372621167</th>\n",
       "      <th>18440717181607000261</th>\n",
       "      <th>18443832178892490378</th>\n",
       "    </tr>\n",
       "    <tr>\n",
       "      <th>week_hour</th>\n",
       "      <th></th>\n",
       "      <th></th>\n",
       "      <th></th>\n",
       "      <th></th>\n",
       "      <th></th>\n",
       "      <th></th>\n",
       "      <th></th>\n",
       "      <th></th>\n",
       "      <th></th>\n",
       "      <th></th>\n",
       "      <th></th>\n",
       "      <th></th>\n",
       "      <th></th>\n",
       "      <th></th>\n",
       "      <th></th>\n",
       "      <th></th>\n",
       "      <th></th>\n",
       "      <th></th>\n",
       "      <th></th>\n",
       "      <th></th>\n",
       "      <th></th>\n",
       "    </tr>\n",
       "  </thead>\n",
       "  <tbody>\n",
       "    <tr>\n",
       "      <th>0_0</th>\n",
       "      <td>0.000000</td>\n",
       "      <td>0.000000</td>\n",
       "      <td>0.133333</td>\n",
       "      <td>0.166667</td>\n",
       "      <td>0.000000</td>\n",
       "      <td>0.043478</td>\n",
       "      <td>0.00</td>\n",
       "      <td>0.521739</td>\n",
       "      <td>0.222222</td>\n",
       "      <td>0.0</td>\n",
       "      <td>...</td>\n",
       "      <td>0.000000</td>\n",
       "      <td>0.076923</td>\n",
       "      <td>0.0000</td>\n",
       "      <td>0.090909</td>\n",
       "      <td>0.0</td>\n",
       "      <td>0.000000</td>\n",
       "      <td>0.228571</td>\n",
       "      <td>0.000000</td>\n",
       "      <td>0.0000</td>\n",
       "      <td>0.000000</td>\n",
       "    </tr>\n",
       "    <tr>\n",
       "      <th>0_1</th>\n",
       "      <td>0.000000</td>\n",
       "      <td>0.000000</td>\n",
       "      <td>0.000000</td>\n",
       "      <td>0.166667</td>\n",
       "      <td>0.000000</td>\n",
       "      <td>0.000000</td>\n",
       "      <td>0.00</td>\n",
       "      <td>0.086957</td>\n",
       "      <td>0.000000</td>\n",
       "      <td>0.0</td>\n",
       "      <td>...</td>\n",
       "      <td>0.000000</td>\n",
       "      <td>0.230769</td>\n",
       "      <td>0.0000</td>\n",
       "      <td>0.181818</td>\n",
       "      <td>0.0</td>\n",
       "      <td>0.000000</td>\n",
       "      <td>0.114286</td>\n",
       "      <td>0.000000</td>\n",
       "      <td>0.0000</td>\n",
       "      <td>0.000000</td>\n",
       "    </tr>\n",
       "    <tr>\n",
       "      <th>0_10</th>\n",
       "      <td>0.166667</td>\n",
       "      <td>0.142857</td>\n",
       "      <td>0.000000</td>\n",
       "      <td>0.000000</td>\n",
       "      <td>0.041667</td>\n",
       "      <td>0.173913</td>\n",
       "      <td>0.00</td>\n",
       "      <td>0.086957</td>\n",
       "      <td>0.000000</td>\n",
       "      <td>0.0</td>\n",
       "      <td>...</td>\n",
       "      <td>0.339623</td>\n",
       "      <td>0.307692</td>\n",
       "      <td>0.1250</td>\n",
       "      <td>0.000000</td>\n",
       "      <td>0.0</td>\n",
       "      <td>0.185185</td>\n",
       "      <td>0.200000</td>\n",
       "      <td>0.071429</td>\n",
       "      <td>0.1250</td>\n",
       "      <td>0.000000</td>\n",
       "    </tr>\n",
       "    <tr>\n",
       "      <th>0_11</th>\n",
       "      <td>0.000000</td>\n",
       "      <td>0.142857</td>\n",
       "      <td>0.666667</td>\n",
       "      <td>0.055556</td>\n",
       "      <td>0.166667</td>\n",
       "      <td>0.347826</td>\n",
       "      <td>0.00</td>\n",
       "      <td>0.391304</td>\n",
       "      <td>0.222222</td>\n",
       "      <td>0.0</td>\n",
       "      <td>...</td>\n",
       "      <td>0.037736</td>\n",
       "      <td>0.230769</td>\n",
       "      <td>0.5000</td>\n",
       "      <td>0.000000</td>\n",
       "      <td>0.2</td>\n",
       "      <td>0.111111</td>\n",
       "      <td>0.085714</td>\n",
       "      <td>0.357143</td>\n",
       "      <td>0.0625</td>\n",
       "      <td>0.166667</td>\n",
       "    </tr>\n",
       "    <tr>\n",
       "      <th>0_12</th>\n",
       "      <td>0.166667</td>\n",
       "      <td>0.250000</td>\n",
       "      <td>0.800000</td>\n",
       "      <td>0.000000</td>\n",
       "      <td>0.083333</td>\n",
       "      <td>0.217391</td>\n",
       "      <td>0.25</td>\n",
       "      <td>0.565217</td>\n",
       "      <td>0.000000</td>\n",
       "      <td>0.0</td>\n",
       "      <td>...</td>\n",
       "      <td>1.000000</td>\n",
       "      <td>0.230769</td>\n",
       "      <td>0.0625</td>\n",
       "      <td>0.000000</td>\n",
       "      <td>0.2</td>\n",
       "      <td>0.185185</td>\n",
       "      <td>0.314286</td>\n",
       "      <td>0.428571</td>\n",
       "      <td>0.0625</td>\n",
       "      <td>0.000000</td>\n",
       "    </tr>\n",
       "  </tbody>\n",
       "</table>\n",
       "<p>5 rows × 4894 columns</p>\n",
       "</div>"
      ],
      "text/plain": [
       "user_id    2244466330591177      3767274164463716      22263144883588864     \\\n",
       "week_hour                                                                     \n",
       "0_0                    0.000000              0.000000              0.133333   \n",
       "0_1                    0.000000              0.000000              0.000000   \n",
       "0_10                   0.166667              0.142857              0.000000   \n",
       "0_11                   0.000000              0.142857              0.666667   \n",
       "0_12                   0.166667              0.250000              0.800000   \n",
       "\n",
       "user_id    25263373097189844     36938861791891792     37747430840118209     \\\n",
       "week_hour                                                                     \n",
       "0_0                    0.166667              0.000000              0.043478   \n",
       "0_1                    0.166667              0.000000              0.000000   \n",
       "0_10                   0.000000              0.041667              0.173913   \n",
       "0_11                   0.055556              0.166667              0.347826   \n",
       "0_12                   0.000000              0.083333              0.217391   \n",
       "\n",
       "user_id    40421401857115442     44032390614277934     52369349052901997     \\\n",
       "week_hour                                                                     \n",
       "0_0                        0.00              0.521739              0.222222   \n",
       "0_1                        0.00              0.086957              0.000000   \n",
       "0_10                       0.00              0.086957              0.000000   \n",
       "0_11                       0.00              0.391304              0.222222   \n",
       "0_12                       0.25              0.565217              0.000000   \n",
       "\n",
       "user_id    54521601679629335     ...  18417531283109304442  \\\n",
       "week_hour                        ...                         \n",
       "0_0                         0.0  ...              0.000000   \n",
       "0_1                         0.0  ...              0.000000   \n",
       "0_10                        0.0  ...              0.339623   \n",
       "0_11                        0.0  ...              0.037736   \n",
       "0_12                        0.0  ...              1.000000   \n",
       "\n",
       "user_id    18418581976329388680  18420447773506519613  18423558708285759863  \\\n",
       "week_hour                                                                     \n",
       "0_0                    0.076923                0.0000              0.090909   \n",
       "0_1                    0.230769                0.0000              0.181818   \n",
       "0_10                   0.307692                0.1250              0.000000   \n",
       "0_11                   0.230769                0.5000              0.000000   \n",
       "0_12                   0.230769                0.0625              0.000000   \n",
       "\n",
       "user_id    18432742752712514319  18436538545025490822  18437797701155742162  \\\n",
       "week_hour                                                                     \n",
       "0_0                         0.0              0.000000              0.228571   \n",
       "0_1                         0.0              0.000000              0.114286   \n",
       "0_10                        0.0              0.185185              0.200000   \n",
       "0_11                        0.2              0.111111              0.085714   \n",
       "0_12                        0.2              0.185185              0.314286   \n",
       "\n",
       "user_id    18438926380372621167  18440717181607000261  18443832178892490378  \n",
       "week_hour                                                                    \n",
       "0_0                    0.000000                0.0000              0.000000  \n",
       "0_1                    0.000000                0.0000              0.000000  \n",
       "0_10                   0.071429                0.1250              0.000000  \n",
       "0_11                   0.357143                0.0625              0.166667  \n",
       "0_12                   0.428571                0.0625              0.000000  \n",
       "\n",
       "[5 rows x 4894 columns]"
      ]
     },
     "execution_count": 24,
     "metadata": {},
     "output_type": "execute_result"
    }
   ],
   "source": [
    "time_df = prepare_time_df(df)\n",
    "time_df.head()"
   ]
  },
  {
   "cell_type": "markdown",
   "metadata": {
    "papermill": {
     "duration": 0.039853,
     "end_time": "2021-01-25T19:23:29.117308",
     "exception": false,
     "start_time": "2021-01-25T19:23:29.077455",
     "status": "completed"
    },
    "tags": []
   },
   "source": [
    "## Сalculation of view rating"
   ]
  },
  {
   "cell_type": "code",
   "execution_count": 25,
   "metadata": {
    "execution": {
     "iopub.execute_input": "2021-01-25T19:23:29.200074Z",
     "iopub.status.busy": "2021-01-25T19:23:29.199327Z",
     "iopub.status.idle": "2021-01-25T19:23:30.952660Z",
     "shell.execute_reply": "2021-01-25T19:23:30.952088Z"
    },
    "papermill": {
     "duration": 1.795927,
     "end_time": "2021-01-25T19:23:30.952783",
     "exception": false,
     "start_time": "2021-01-25T19:23:29.156856",
     "status": "completed"
    },
    "tags": []
   },
   "outputs": [],
   "source": [
    "# calculating shows' ratings for the user based on screen time and show's age\n",
    "final_df_X['view_rating'] = final_df_X['view_pct'].apply(lambda x: 5 if x==1\n",
    "                                                         else 2 + 9*x**2)\n",
    "T = 60\n",
    "cont = 0.4\n",
    "t_ref = (final_df_X['start_time_tv']).max()\n",
    "final_df_X['view_rating'] = (final_df_X['view_rating'] * \n",
    "                             np.power(cont, (t_ref - final_df_X['start_time_tv']).dt.days / T))"
   ]
  },
  {
   "cell_type": "code",
   "execution_count": 26,
   "metadata": {
    "execution": {
     "iopub.execute_input": "2021-01-25T19:23:31.041256Z",
     "iopub.status.busy": "2021-01-25T19:23:31.040561Z",
     "iopub.status.idle": "2021-01-25T19:23:31.169339Z",
     "shell.execute_reply": "2021-01-25T19:23:31.169892Z"
    },
    "papermill": {
     "duration": 0.17732,
     "end_time": "2021-01-25T19:23:31.170040",
     "exception": false,
     "start_time": "2021-01-25T19:23:30.992720",
     "status": "completed"
    },
    "tags": []
   },
   "outputs": [],
   "source": [
    "# using different datasets to test our methods\n",
    "final_df_X_08 = final_df_X[(final_df_X['view_pct'] >= 0.8)]\n",
    "final_df_X_08_cat = final_df_X_08[final_df_X_08['tv_show_category'].isin(['Развлечения', 'Инфо', \n",
    "                                                                          'Сериалы', 'Детям', \n",
    "                                                                          'Познавательное', \n",
    "                                                                          'Другое'])]\n",
    "\n",
    "final_df_X_08_cat_dur = final_df_X_08_cat[(final_df_X_08_cat['duration'] < 10000)]"
   ]
  },
  {
   "cell_type": "code",
   "execution_count": 27,
   "metadata": {
    "execution": {
     "iopub.execute_input": "2021-01-25T19:23:31.254341Z",
     "iopub.status.busy": "2021-01-25T19:23:31.253688Z",
     "iopub.status.idle": "2021-01-25T19:23:32.165743Z",
     "shell.execute_reply": "2021-01-25T19:23:32.165005Z"
    },
    "papermill": {
     "duration": 0.955384,
     "end_time": "2021-01-25T19:23:32.165875",
     "exception": false,
     "start_time": "2021-01-25T19:23:31.210491",
     "status": "completed"
    },
    "tags": []
   },
   "outputs": [],
   "source": [
    "show_cnt_X_08_cat = top_user_show_sorted(final_df_X_08_cat)\n",
    "show_cnt_X_08_cat_dur = top_user_show(final_df_X_08_cat_dur)\n",
    "show_cnt_new = top_user_show_sorted(final_df_X_08_cat_dur)"
   ]
  },
  {
   "cell_type": "code",
   "execution_count": 28,
   "metadata": {
    "execution": {
     "iopub.execute_input": "2021-01-25T19:23:32.252865Z",
     "iopub.status.busy": "2021-01-25T19:23:32.252180Z",
     "iopub.status.idle": "2021-01-25T19:23:32.266967Z",
     "shell.execute_reply": "2021-01-25T19:23:32.266234Z"
    },
    "papermill": {
     "duration": 0.060692,
     "end_time": "2021-01-25T19:23:32.267087",
     "exception": false,
     "start_time": "2021-01-25T19:23:32.206395",
     "status": "completed"
    },
    "tags": []
   },
   "outputs": [],
   "source": [
    "# top shows used for filling NaNs and other missing data\n",
    "top_5_shows = top_shows(final_df_X_08_cat, 'tv_show_id', 5)\n",
    "top_10_shows = top_shows(final_df_X_08_cat, 'tv_show_id', 10)"
   ]
  },
  {
   "cell_type": "code",
   "execution_count": 29,
   "metadata": {
    "execution": {
     "iopub.execute_input": "2021-01-25T19:23:32.392307Z",
     "iopub.status.busy": "2021-01-25T19:23:32.391203Z",
     "iopub.status.idle": "2021-01-25T19:23:32.397108Z",
     "shell.execute_reply": "2021-01-25T19:23:32.397639Z"
    },
    "papermill": {
     "duration": 0.090209,
     "end_time": "2021-01-25T19:23:32.397790",
     "exception": false,
     "start_time": "2021-01-25T19:23:32.307581",
     "status": "completed"
    },
    "tags": []
   },
   "outputs": [
    {
     "name": "stdout",
     "output_type": "stream",
     "text": [
      "show_cnt_new\n",
      "Duplicates in shows - 0.0\n",
      "NaNs in shows - 0\n",
      "Missing shows - 0.12590233545647558\n",
      "\n",
      "final_df_X_08_cat_cnt\n",
      "Duplicates in shows - 0.0\n",
      "NaNs in shows - 0\n",
      "Missing shows - 0.1256900212314225\n",
      "\n"
     ]
    }
   ],
   "source": [
    "X = {'show_cnt_new': show_cnt_new,\n",
    "     'final_df_X_08_cat_cnt': show_cnt_X_08_cat}\n",
    "\n",
    "\n",
    "for name, ds_X in X.items():\n",
    "    print(name)\n",
    "    print(\"Duplicates in shows -\", ds_X['tv_show_id'].apply(lambda x: len(set(x)) != len(x)).mean())\n",
    "    print(\"NaNs in shows -\", ds_X['tv_show_id'].isna().sum())\n",
    "    print(\"Missing shows -\", (ds_X['tv_show_id'].apply(len) != 5).mean())\n",
    "    print()\n",
    "    \n",
    "    \n",
    "for name, ds_X in X.items():\n",
    "    fillna_with_top(ds_X, 'tv_show_id', top_5_shows)\n",
    "    fill_to_5(ds_X, 'tv_show_id', top_10_shows)"
   ]
  },
  {
   "cell_type": "code",
   "execution_count": 30,
   "metadata": {
    "execution": {
     "iopub.execute_input": "2021-01-25T19:23:32.528471Z",
     "iopub.status.busy": "2021-01-25T19:23:32.517982Z",
     "iopub.status.idle": "2021-01-25T19:23:32.702722Z",
     "shell.execute_reply": "2021-01-25T19:23:32.702101Z"
    },
    "papermill": {
     "duration": 0.263653,
     "end_time": "2021-01-25T19:23:32.702872",
     "exception": false,
     "start_time": "2021-01-25T19:23:32.439219",
     "status": "completed"
    },
    "tags": []
   },
   "outputs": [
    {
     "name": "stdout",
     "output_type": "stream",
     "text": [
      "show_cnt_new\n",
      "MAPK: 0.3268764711902569\n",
      "MAP_K: 0.22853546208167025\n",
      "\n",
      "final_df_X_08_cat_cnt\n",
      "MAPK: 0.32679561969092213\n",
      "MAP_K: 0.22850271210725617\n",
      "\n"
     ]
    }
   ],
   "source": [
    "for name, ds_X in X.items():\n",
    "    print(name)\n",
    "    test_mapk(ds_X, test_set, top_5_shows)\n",
    "    print()"
   ]
  },
  {
   "cell_type": "markdown",
   "metadata": {
    "papermill": {
     "duration": 0.046026,
     "end_time": "2021-01-25T19:23:32.791535",
     "exception": false,
     "start_time": "2021-01-25T19:23:32.745509",
     "status": "completed"
    },
    "tags": []
   },
   "source": [
    "## Final solution"
   ]
  },
  {
   "cell_type": "code",
   "execution_count": 31,
   "metadata": {
    "execution": {
     "iopub.execute_input": "2021-01-25T19:23:32.911756Z",
     "iopub.status.busy": "2021-01-25T19:23:32.910382Z",
     "iopub.status.idle": "2021-01-25T19:23:35.076660Z",
     "shell.execute_reply": "2021-01-25T19:23:35.076080Z"
    },
    "papermill": {
     "duration": 2.243879,
     "end_time": "2021-01-25T19:23:35.076799",
     "exception": false,
     "start_time": "2021-01-25T19:23:32.832920",
     "status": "completed"
    },
    "tags": []
   },
   "outputs": [],
   "source": [
    "train_df['view_rating'] = train_df['view_pct'].apply(lambda x: 5 if x==1\n",
    "                                                     else 2 + 2*x**2)\n",
    "T = 60\n",
    "cont = 0.8\n",
    "t_ref = (train_df['start_time_tv']).max()\n",
    "train_df['view_rating'] = (train_df['view_rating'] * \n",
    "                           np.power(cont, (t_ref - train_df['start_time_tv']).dt.days / T))"
   ]
  },
  {
   "cell_type": "code",
   "execution_count": 32,
   "metadata": {
    "execution": {
     "iopub.execute_input": "2021-01-25T19:23:35.167513Z",
     "iopub.status.busy": "2021-01-25T19:23:35.166715Z",
     "iopub.status.idle": "2021-01-25T19:23:35.325852Z",
     "shell.execute_reply": "2021-01-25T19:23:35.326599Z"
    },
    "papermill": {
     "duration": 0.208237,
     "end_time": "2021-01-25T19:23:35.326760",
     "exception": false,
     "start_time": "2021-01-25T19:23:35.118523",
     "status": "completed"
    },
    "tags": []
   },
   "outputs": [],
   "source": [
    "# Shows with high screen time and duration less than 10000\n",
    "# Category \"Фильмы\" dropped\n",
    "high_frequency_df = train_df[(train_df['view_pct'] >= 0.8) &\n",
    "                             (train_df['duration'] < 10000)]\n",
    "\n",
    "high_frequency_df_cat = high_frequency_df[high_frequency_df['tv_show_category'].isin(\n",
    "    ['Развлечения', 'Инфо', 'Сериалы', 'Детям', 'Другое', 'Познавательное'])]"
   ]
  },
  {
   "cell_type": "markdown",
   "metadata": {
    "papermill": {
     "duration": 0.048832,
     "end_time": "2021-01-25T19:23:35.420101",
     "exception": false,
     "start_time": "2021-01-25T19:23:35.371269",
     "status": "completed"
    },
    "tags": []
   },
   "source": [
    "Top shows and cosine similarity matrix to fill missing shows for the user"
   ]
  },
  {
   "cell_type": "code",
   "execution_count": 33,
   "metadata": {
    "execution": {
     "iopub.execute_input": "2021-01-25T19:23:35.514903Z",
     "iopub.status.busy": "2021-01-25T19:23:35.513609Z",
     "iopub.status.idle": "2021-01-25T19:23:36.234958Z",
     "shell.execute_reply": "2021-01-25T19:23:36.235699Z"
    },
    "papermill": {
     "duration": 0.77198,
     "end_time": "2021-01-25T19:23:36.235883",
     "exception": false,
     "start_time": "2021-01-25T19:23:35.463903",
     "status": "completed"
    },
    "tags": []
   },
   "outputs": [],
   "source": [
    "top_5_shows = top_shows(high_frequency_df_cat, 'tv_show_id', 5)\n",
    "top_10_shows = top_shows(high_frequency_df_cat,'tv_show_id', 10)\n",
    "pvt_table, cos_sim_matrix = create_similarity_matrix(high_frequency_df_cat)"
   ]
  },
  {
   "cell_type": "markdown",
   "metadata": {
    "papermill": {
     "duration": 0.047971,
     "end_time": "2021-01-25T19:23:36.334583",
     "exception": false,
     "start_time": "2021-01-25T19:23:36.286612",
     "status": "completed"
    },
    "tags": []
   },
   "source": [
    "Calculation of the most popular shows for the user with respect to ratings and train/test show ratio"
   ]
  },
  {
   "cell_type": "code",
   "execution_count": 34,
   "metadata": {
    "execution": {
     "iopub.execute_input": "2021-01-25T19:23:36.437520Z",
     "iopub.status.busy": "2021-01-25T19:23:36.436552Z",
     "iopub.status.idle": "2021-01-25T19:23:36.440279Z",
     "shell.execute_reply": "2021-01-25T19:23:36.439675Z"
    },
    "papermill": {
     "duration": 0.053721,
     "end_time": "2021-01-25T19:23:36.440405",
     "exception": false,
     "start_time": "2021-01-25T19:23:36.386684",
     "status": "completed"
    },
    "tags": []
   },
   "outputs": [],
   "source": [
    "def counts(df):\n",
    "    count_by_user_show = df.groupby(['user_id', 'tv_show_id'])['view_rating'].size().reset_index()\n",
    "    rating_by_user_show = df.groupby(['user_id', 'tv_show_id'])['view_rating'].mean().reset_index()\n",
    "\n",
    "    return count_by_user_show, rating_by_user_show"
   ]
  },
  {
   "cell_type": "code",
   "execution_count": 35,
   "metadata": {
    "execution": {
     "iopub.execute_input": "2021-01-25T19:23:36.530556Z",
     "iopub.status.busy": "2021-01-25T19:23:36.529797Z",
     "iopub.status.idle": "2021-01-25T19:23:36.890697Z",
     "shell.execute_reply": "2021-01-25T19:23:36.891297Z"
    },
    "papermill": {
     "duration": 0.408038,
     "end_time": "2021-01-25T19:23:36.891464",
     "exception": false,
     "start_time": "2021-01-25T19:23:36.483426",
     "status": "completed"
    },
    "tags": []
   },
   "outputs": [],
   "source": [
    "count_by_user_show, rating_by_user_show = counts(high_frequency_df_cat)\n",
    "test_count = test_arh.groupby(['tv_show_id']).size().reset_index(name='test_count')\n",
    "train_count = train_arh.groupby(['tv_show_id']).size().reset_index(name='train_count')\n",
    "\n",
    "rating_by_user_show['count'] = count_by_user_show['view_rating']\n",
    "rating_by_user_show = pd.merge(rating_by_user_show, train_count, \n",
    "                               on='tv_show_id', how='left')\n",
    "rating_by_user_show = pd.merge(rating_by_user_show, test_count, \n",
    "                               on='tv_show_id', how='left')\n",
    "rating_by_user_show['train_total'] = (rating_by_user_show['count'] * \n",
    "                                      rating_by_user_show['view_rating'] * \n",
    "                                      np.log10(rating_by_user_show['train_count']))\n",
    "\n",
    "rating_by_user_show = rating_by_user_show.join(rating_by_user_show.groupby(\n",
    "    'tv_show_id').size().to_frame(name='global_cnt'),\n",
    "                                               on='tv_show_id', how='left')\n",
    "\n",
    "show_user_rating = rating_by_user_show.sort_values(['train_total', 'global_cnt'], \n",
    "                                                   ascending=False).groupby(\n",
    "    'user_id').head(5).groupby('user_id')['tv_show_id'].apply(list).to_frame()"
   ]
  },
  {
   "cell_type": "code",
   "execution_count": 36,
   "metadata": {
    "execution": {
     "iopub.execute_input": "2021-01-25T19:23:36.981924Z",
     "iopub.status.busy": "2021-01-25T19:23:36.981154Z",
     "iopub.status.idle": "2021-01-25T19:23:37.727468Z",
     "shell.execute_reply": "2021-01-25T19:23:37.728510Z"
    },
    "papermill": {
     "duration": 0.793646,
     "end_time": "2021-01-25T19:23:37.728758",
     "exception": false,
     "start_time": "2021-01-25T19:23:36.935112",
     "status": "completed"
    },
    "tags": []
   },
   "outputs": [
    {
     "name": "stdout",
     "output_type": "stream",
     "text": [
      "NaNs in shows before fill - 10\n",
      "Duplicates in shows - 0.0\n",
      "Missing shows before fill - 0.03253968253968254\n"
     ]
    }
   ],
   "source": [
    "show_cnt_user = top_user_show_sorted(high_frequency_df_cat)\n",
    "\n",
    "my_submission = submission[['user_id']].join(show_user_rating, on='user_id', how='left')\n",
    "print(\"NaNs in shows before fill -\", my_submission['tv_show_id'].isna().sum())\n",
    "fillna_with_top(my_submission, 'tv_show_id', top_5_shows)\n",
    "print(\"Duplicates in shows -\", my_submission['tv_show_id'].apply(lambda x: len(set(x)) != len(x)).mean())\n",
    "print(\"Missing shows before fill -\", (my_submission['tv_show_id'].apply(len) != 5).mean())\n",
    "fill_with_recommend(my_submission, 'tv_show_id', cos_sim_matrix, pvt_table)\n",
    "assert (my_submission['tv_show_id'].apply(len) != 5).mean() == 0"
   ]
  },
  {
   "cell_type": "code",
   "execution_count": 37,
   "metadata": {
    "execution": {
     "iopub.execute_input": "2021-01-25T19:23:37.837783Z",
     "iopub.status.busy": "2021-01-25T19:23:37.837035Z",
     "iopub.status.idle": "2021-01-25T19:23:38.203641Z",
     "shell.execute_reply": "2021-01-25T19:23:38.204155Z"
    },
    "papermill": {
     "duration": 0.420788,
     "end_time": "2021-01-25T19:23:38.204329",
     "exception": false,
     "start_time": "2021-01-25T19:23:37.783541",
     "status": "completed"
    },
    "tags": []
   },
   "outputs": [
    {
     "data": {
      "text/html": [
       "<div>\n",
       "<style scoped>\n",
       "    .dataframe tbody tr th:only-of-type {\n",
       "        vertical-align: middle;\n",
       "    }\n",
       "\n",
       "    .dataframe tbody tr th {\n",
       "        vertical-align: top;\n",
       "    }\n",
       "\n",
       "    .dataframe thead th {\n",
       "        text-align: right;\n",
       "    }\n",
       "</style>\n",
       "<table border=\"1\" class=\"dataframe\">\n",
       "  <thead>\n",
       "    <tr style=\"text-align: right;\">\n",
       "      <th></th>\n",
       "      <th>user_id</th>\n",
       "      <th>tv_show_id</th>\n",
       "    </tr>\n",
       "  </thead>\n",
       "  <tbody>\n",
       "    <tr>\n",
       "      <th>0</th>\n",
       "      <td>8377619604347126107</td>\n",
       "      <td>2400480 12002955 2400508 240081 12002896</td>\n",
       "    </tr>\n",
       "    <tr>\n",
       "      <th>1</th>\n",
       "      <td>8381667675275833309</td>\n",
       "      <td>2400480 240081 200344 12001682 500346</td>\n",
       "    </tr>\n",
       "    <tr>\n",
       "      <th>2</th>\n",
       "      <td>8387147770138767246</td>\n",
       "      <td>12001682 12002856 12001732 12002955 12002771</td>\n",
       "    </tr>\n",
       "    <tr>\n",
       "      <th>3</th>\n",
       "      <td>8397181578236218580</td>\n",
       "      <td>2400480 20088 240081 6700482 2400467</td>\n",
       "    </tr>\n",
       "    <tr>\n",
       "      <th>4</th>\n",
       "      <td>8404698046253197367</td>\n",
       "      <td>2400480 240081 10003012 20088 6200371</td>\n",
       "    </tr>\n",
       "    <tr>\n",
       "      <th>...</th>\n",
       "      <td>...</td>\n",
       "      <td>...</td>\n",
       "    </tr>\n",
       "    <tr>\n",
       "      <th>1255</th>\n",
       "      <td>10876606683805171865</td>\n",
       "      <td>2400480 12001712 10001514 12001682 1000376</td>\n",
       "    </tr>\n",
       "    <tr>\n",
       "      <th>1256</th>\n",
       "      <td>10886096340955133676</td>\n",
       "      <td>12001682 12001734 12002856 2400480 10001514</td>\n",
       "    </tr>\n",
       "    <tr>\n",
       "      <th>1257</th>\n",
       "      <td>10902911550446151928</td>\n",
       "      <td>12001682 240081 12001734 12002856 2400480</td>\n",
       "    </tr>\n",
       "    <tr>\n",
       "      <th>1258</th>\n",
       "      <td>10904697592493678571</td>\n",
       "      <td>12001682 240081 12001734 2400480 12002896</td>\n",
       "    </tr>\n",
       "    <tr>\n",
       "      <th>1259</th>\n",
       "      <td>10906529691540756480</td>\n",
       "      <td>2400480 2400467 200337 12002355 2400508</td>\n",
       "    </tr>\n",
       "  </tbody>\n",
       "</table>\n",
       "<p>1260 rows × 2 columns</p>\n",
       "</div>"
      ],
      "text/plain": [
       "                   user_id                                    tv_show_id\n",
       "0      8377619604347126107      2400480 12002955 2400508 240081 12002896\n",
       "1      8381667675275833309         2400480 240081 200344 12001682 500346\n",
       "2      8387147770138767246  12001682 12002856 12001732 12002955 12002771\n",
       "3      8397181578236218580          2400480 20088 240081 6700482 2400467\n",
       "4      8404698046253197367         2400480 240081 10003012 20088 6200371\n",
       "...                    ...                                           ...\n",
       "1255  10876606683805171865    2400480 12001712 10001514 12001682 1000376\n",
       "1256  10886096340955133676   12001682 12001734 12002856 2400480 10001514\n",
       "1257  10902911550446151928     12001682 240081 12001734 12002856 2400480\n",
       "1258  10904697592493678571     12001682 240081 12001734 2400480 12002896\n",
       "1259  10906529691540756480       2400480 2400467 200337 12002355 2400508\n",
       "\n",
       "[1260 rows x 2 columns]"
      ]
     },
     "execution_count": 37,
     "metadata": {},
     "output_type": "execute_result"
    }
   ],
   "source": [
    "my_submission['tv_show_id'] = my_submission['tv_show_id'].apply(lambda x: ' '.join([str(i) for i in x]))\n",
    "my_submission.to_csv('/kaggle/working/my_submission.csv', index=False)\n",
    "my_submission"
   ]
  }
 ],
 "metadata": {
  "kernelspec": {
   "display_name": "Python 3",
   "language": "python",
   "name": "python3"
  },
  "language_info": {
   "codemirror_mode": {
    "name": "ipython",
    "version": 3
   },
   "file_extension": ".py",
   "mimetype": "text/x-python",
   "name": "python",
   "nbconvert_exporter": "python",
   "pygments_lexer": "ipython3",
   "version": "3.7.6"
  },
  "papermill": {
   "duration": 80.683144,
   "end_time": "2021-01-25T19:23:38.358419",
   "environment_variables": {},
   "exception": null,
   "input_path": "__notebook__.ipynb",
   "output_path": "__notebook__.ipynb",
   "parameters": {},
   "start_time": "2021-01-25T19:22:17.675275",
   "version": "2.1.0"
  }
 },
 "nbformat": 4,
 "nbformat_minor": 4
}
